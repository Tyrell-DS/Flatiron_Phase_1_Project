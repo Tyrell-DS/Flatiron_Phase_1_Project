{
 "cells": [
  {
   "cell_type": "code",
   "execution_count": 1,
   "metadata": {},
   "outputs": [],
   "source": [
    "import requests\n",
    "import json\n",
    "import pandas as pd"
   ]
  },
  {
   "cell_type": "code",
   "execution_count": 2,
   "metadata": {
    "scrolled": true
   },
   "outputs": [
    {
     "name": "stdout",
     "output_type": "stream",
     "text": [
      "/Users/a_conte/Documents/Flatiron/Phase_1_Project\r\n"
     ]
    }
   ],
   "source": [
    "!Pwd"
   ]
  },
  {
   "cell_type": "code",
   "execution_count": 3,
   "metadata": {
    "scrolled": true
   },
   "outputs": [
    {
     "name": "stdout",
     "output_type": "stream",
     "text": [
      "\u001b[34m.\u001b[m\u001b[m                      \u001b[34m.secrets\u001b[m\u001b[m               Script.ipynb\r\n",
      "\u001b[34m..\u001b[m\u001b[m                     Boston.ipynb           Script_Use.py\r\n",
      ".DS_Store              NY_Use.ipynb           \u001b[34m__pycache__\u001b[m\u001b[m\r\n",
      ".gitignore             New York Reviews.ipynb\r\n",
      "\u001b[34m.ipynb_checkpoints\u001b[m\u001b[m     New York.ipynb\r\n"
     ]
    }
   ],
   "source": [
    "!ls -a"
   ]
  },
  {
   "cell_type": "code",
   "execution_count": 4,
   "metadata": {},
   "outputs": [],
   "source": [
    "!echo '{\"id\": \"qD3df2spUAnavWJQ5NNDJA\", \"key\": \"lDOH3Sz2cLDQi3QI4dAx5iXC6QHj8OIdGLzmNiPDFaHSo6GQJjlN9yfXG4WE_kBzRJ79DU56XmUsP63hgIMWKaC9ryfwb_yXgCIkVq3PKIRBTRpH6-a3AUTtOEqZYHYx\"}' > creds.json"
   ]
  },
  {
   "cell_type": "code",
   "execution_count": 5,
   "metadata": {
    "scrolled": true
   },
   "outputs": [
    {
     "name": "stdout",
     "output_type": "stream",
     "text": [
      "\u001b[34m.\u001b[m\u001b[m                      \u001b[34m.secrets\u001b[m\u001b[m               Script.ipynb\r\n",
      "\u001b[34m..\u001b[m\u001b[m                     Boston.ipynb           Script_Use.py\r\n",
      ".DS_Store              NY_Use.ipynb           \u001b[34m__pycache__\u001b[m\u001b[m\r\n",
      ".gitignore             New York Reviews.ipynb creds.json\r\n",
      "\u001b[34m.ipynb_checkpoints\u001b[m\u001b[m     New York.ipynb\r\n"
     ]
    }
   ],
   "source": [
    "!ls -a"
   ]
  },
  {
   "cell_type": "code",
   "execution_count": 6,
   "metadata": {},
   "outputs": [],
   "source": [
    "!mv creds.json .secrets/"
   ]
  },
  {
   "cell_type": "code",
   "execution_count": 7,
   "metadata": {},
   "outputs": [
    {
     "name": "stdout",
     "output_type": "stream",
     "text": [
      "\u001b[34m.\u001b[m\u001b[m          \u001b[34m..\u001b[m\u001b[m         creds.json\r\n"
     ]
    }
   ],
   "source": [
    "!ls -a .secrets/"
   ]
  },
  {
   "cell_type": "code",
   "execution_count": 29,
   "metadata": {},
   "outputs": [],
   "source": [
    "with open(\".secrets/creds.json\") as f:\n",
    "    creds = json.load(f)"
   ]
  },
  {
   "cell_type": "code",
   "execution_count": 36,
   "metadata": {
    "scrolled": true
   },
   "outputs": [
    {
     "name": "stdout",
     "output_type": "stream",
     "text": [
      "200\n"
     ]
    }
   ],
   "source": [
    "url = 'https://api.yelp.com/v3/businesses/search'\n",
    "term = 'sports bar'\n",
    "location = 'New York City'\n",
    "#SEARCH_LIMIT = 50\n",
    "headers = {\n",
    "    'Authorization': 'Bearer ' + creds['key']\n",
    "}\n",
    "\n",
    "url_params = {\n",
    "                \"term\": term.replace(' ', '+'),\n",
    "                \"location\": location.replace(' ', '+'),\n",
    "                \"limit\": 50,\n",
    "                \"offset\": 0,\n",
    "    \n",
    "    \n",
    "    \n",
    "            }\n",
    "\n",
    "response = requests.get(url, headers=headers, params=url_params)\n",
    "print(response.status_code)"
   ]
  },
  {
   "cell_type": "code",
   "execution_count": 47,
   "metadata": {},
   "outputs": [],
   "source": [
    "from Script_Use import *"
   ]
  },
  {
   "cell_type": "code",
   "execution_count": 48,
   "metadata": {},
   "outputs": [],
   "source": [
    "csv_filepath = './NewYorkBars.csv'"
   ]
  },
  {
   "cell_type": "code",
   "execution_count": 49,
   "metadata": {},
   "outputs": [],
   "source": [
    "cur = 0\n",
    "#set up a while loop to go through and grab the result \n",
    "while cur < 300:\n",
    "    #set the offset parameter to be where you currently are in the results \n",
    "    url_params['offset'] = cur\n",
    "    #make your API call with the new offset number\n",
    "    results = yelp_call(url_params, creds)\n",
    "    yelp_results = results.json()\n",
    "    business = yelp_results['businesses']\n",
    "    \n",
    "    #after you get your results you can now use your function to parse those results\n",
    "    parsed_results = parse_data(business)\n",
    "    # use your function to insert your parsed results into the db\n",
    "    \n",
    "    df_save(csv_filepath ,parsed_results)\n",
    "    #increment the counter by 50 to move on to the next results\n",
    "    cur += 50"
   ]
  },
  {
   "cell_type": "code",
   "execution_count": 50,
   "metadata": {},
   "outputs": [],
   "source": [
    "df = pd.read_csv(csv_filepath)"
   ]
  },
  {
   "cell_type": "code",
   "execution_count": 51,
   "metadata": {},
   "outputs": [
    {
     "data": {
      "text/html": [
       "<div>\n",
       "<style scoped>\n",
       "    .dataframe tbody tr th:only-of-type {\n",
       "        vertical-align: middle;\n",
       "    }\n",
       "\n",
       "    .dataframe tbody tr th {\n",
       "        vertical-align: top;\n",
       "    }\n",
       "\n",
       "    .dataframe thead th {\n",
       "        text-align: right;\n",
       "    }\n",
       "</style>\n",
       "<table border=\"1\" class=\"dataframe\">\n",
       "  <thead>\n",
       "    <tr style=\"text-align: right;\">\n",
       "      <th></th>\n",
       "      <th>0</th>\n",
       "      <th>The Three Monkeys</th>\n",
       "      <th>['236 W 54th St', 'New York, NY 10019']</th>\n",
       "      <th>IBgjj5VBu5JJvKgo9EzKrg</th>\n",
       "      <th>4.0</th>\n",
       "      <th>1193</th>\n",
       "      <th>{'latitude': 40.764164, 'longitude': -73.98306}</th>\n",
       "      <th>$$</th>\n",
       "    </tr>\n",
       "  </thead>\n",
       "  <tbody>\n",
       "    <tr>\n",
       "      <th>0</th>\n",
       "      <td>1</td>\n",
       "      <td>Luckydog</td>\n",
       "      <td>['303 Bedford Ave', 'Brooklyn, NY 11211']</td>\n",
       "      <td>3Uzy1yp1SXq3FG-i2hEcyA</td>\n",
       "      <td>4.0</td>\n",
       "      <td>299</td>\n",
       "      <td>{'latitude': 40.71348, 'longitude': -73.96166}</td>\n",
       "      <td>$</td>\n",
       "    </tr>\n",
       "    <tr>\n",
       "      <th>1</th>\n",
       "      <td>2</td>\n",
       "      <td>Above Rooftop</td>\n",
       "      <td>['1100 S Ave', 'Staten Island, NY 10314']</td>\n",
       "      <td>SG0oXcpWb5te6iB9n_A1eg</td>\n",
       "      <td>3.0</td>\n",
       "      <td>50</td>\n",
       "      <td>{'latitude': 40.6145264, 'longitude': -74.1771...</td>\n",
       "      <td>NaN</td>\n",
       "    </tr>\n",
       "    <tr>\n",
       "      <th>2</th>\n",
       "      <td>3</td>\n",
       "      <td>The White Elephant</td>\n",
       "      <td>['1065 Manhattan Ave', 'Brooklyn, NY 11222']</td>\n",
       "      <td>w_MivZdsc1qGowQgj-eAaA</td>\n",
       "      <td>5.0</td>\n",
       "      <td>3</td>\n",
       "      <td>{'latitude': 40.7350196838379, 'longitude': -7...</td>\n",
       "      <td>NaN</td>\n",
       "    </tr>\n",
       "    <tr>\n",
       "      <th>3</th>\n",
       "      <td>4</td>\n",
       "      <td>Pint</td>\n",
       "      <td>['34 Wayne St', 'Jersey City, NJ 07302']</td>\n",
       "      <td>SDgXhdIDqhOo2E3t8e15Eg</td>\n",
       "      <td>4.0</td>\n",
       "      <td>148</td>\n",
       "      <td>{'latitude': 40.7190548557359, 'longitude': -7...</td>\n",
       "      <td>$</td>\n",
       "    </tr>\n",
       "    <tr>\n",
       "      <th>4</th>\n",
       "      <td>5</td>\n",
       "      <td>e's BAR</td>\n",
       "      <td>['511 Amsterdam Ave', 'New York, NY 10024']</td>\n",
       "      <td>GXh9YpX4v8Wemrq-SPDPhA</td>\n",
       "      <td>4.0</td>\n",
       "      <td>356</td>\n",
       "      <td>{'latitude': 40.786692073145, 'longitude': -73...</td>\n",
       "      <td>$$</td>\n",
       "    </tr>\n",
       "    <tr>\n",
       "      <th>...</th>\n",
       "      <td>...</td>\n",
       "      <td>...</td>\n",
       "      <td>...</td>\n",
       "      <td>...</td>\n",
       "      <td>...</td>\n",
       "      <td>...</td>\n",
       "      <td>...</td>\n",
       "      <td>...</td>\n",
       "    </tr>\n",
       "    <tr>\n",
       "      <th>294</th>\n",
       "      <td>45</td>\n",
       "      <td>Down the Hatch</td>\n",
       "      <td>['179 W 4th St', 'New York, NY 10014']</td>\n",
       "      <td>_owMBYfzT9dO7FXGXXzXqA</td>\n",
       "      <td>3.5</td>\n",
       "      <td>562</td>\n",
       "      <td>{'latitude': 40.73247, 'longitude': -74.00163}</td>\n",
       "      <td>$$</td>\n",
       "    </tr>\n",
       "    <tr>\n",
       "      <th>295</th>\n",
       "      <td>46</td>\n",
       "      <td>Blue Smoke</td>\n",
       "      <td>['255 Vesey St', 'New York, NY 10282']</td>\n",
       "      <td>tA1QO_GParSsaOaO8UoBvQ</td>\n",
       "      <td>3.5</td>\n",
       "      <td>649</td>\n",
       "      <td>{'latitude': 40.714486, 'longitude': -74.0152768}</td>\n",
       "      <td>$$</td>\n",
       "    </tr>\n",
       "    <tr>\n",
       "      <th>296</th>\n",
       "      <td>47</td>\n",
       "      <td>Treadwell Park</td>\n",
       "      <td>['301 S End Ave', 'New York, NY 10280']</td>\n",
       "      <td>oBAxfAeF6OBukPg3WLmiRg</td>\n",
       "      <td>4.0</td>\n",
       "      <td>160</td>\n",
       "      <td>{'latitude': 40.7102746, 'longitude': -74.0164...</td>\n",
       "      <td>$$</td>\n",
       "    </tr>\n",
       "    <tr>\n",
       "      <th>297</th>\n",
       "      <td>48</td>\n",
       "      <td>White Oak Tavern</td>\n",
       "      <td>['21 Waverly Pl', 'New York, NY 10003']</td>\n",
       "      <td>mVN2G1c5bRtAsNlr2Tbx6Q</td>\n",
       "      <td>4.0</td>\n",
       "      <td>359</td>\n",
       "      <td>{'latitude': 40.73036, 'longitude': -73.99462}</td>\n",
       "      <td>$$</td>\n",
       "    </tr>\n",
       "    <tr>\n",
       "      <th>298</th>\n",
       "      <td>49</td>\n",
       "      <td>The Winslow Gin House And Eatery</td>\n",
       "      <td>['243 E 14th St', 'New York, NY 10003']</td>\n",
       "      <td>3NbhYebjZPjLTWZZyRuhsw</td>\n",
       "      <td>4.5</td>\n",
       "      <td>541</td>\n",
       "      <td>{'latitude': 40.7327766418457, 'longitude': -7...</td>\n",
       "      <td>$$</td>\n",
       "    </tr>\n",
       "  </tbody>\n",
       "</table>\n",
       "<p>299 rows × 8 columns</p>\n",
       "</div>"
      ],
      "text/plain": [
       "      0                 The Three Monkeys  \\\n",
       "0     1                          Luckydog   \n",
       "1     2                     Above Rooftop   \n",
       "2     3                The White Elephant   \n",
       "3     4                              Pint   \n",
       "4     5                           e's BAR   \n",
       "..   ..                               ...   \n",
       "294  45                    Down the Hatch   \n",
       "295  46                        Blue Smoke   \n",
       "296  47                    Treadwell Park   \n",
       "297  48                  White Oak Tavern   \n",
       "298  49  The Winslow Gin House And Eatery   \n",
       "\n",
       "          ['236 W 54th St', 'New York, NY 10019']  IBgjj5VBu5JJvKgo9EzKrg  \\\n",
       "0       ['303 Bedford Ave', 'Brooklyn, NY 11211']  3Uzy1yp1SXq3FG-i2hEcyA   \n",
       "1       ['1100 S Ave', 'Staten Island, NY 10314']  SG0oXcpWb5te6iB9n_A1eg   \n",
       "2    ['1065 Manhattan Ave', 'Brooklyn, NY 11222']  w_MivZdsc1qGowQgj-eAaA   \n",
       "3        ['34 Wayne St', 'Jersey City, NJ 07302']  SDgXhdIDqhOo2E3t8e15Eg   \n",
       "4     ['511 Amsterdam Ave', 'New York, NY 10024']  GXh9YpX4v8Wemrq-SPDPhA   \n",
       "..                                            ...                     ...   \n",
       "294        ['179 W 4th St', 'New York, NY 10014']  _owMBYfzT9dO7FXGXXzXqA   \n",
       "295        ['255 Vesey St', 'New York, NY 10282']  tA1QO_GParSsaOaO8UoBvQ   \n",
       "296       ['301 S End Ave', 'New York, NY 10280']  oBAxfAeF6OBukPg3WLmiRg   \n",
       "297       ['21 Waverly Pl', 'New York, NY 10003']  mVN2G1c5bRtAsNlr2Tbx6Q   \n",
       "298       ['243 E 14th St', 'New York, NY 10003']  3NbhYebjZPjLTWZZyRuhsw   \n",
       "\n",
       "     4.0  1193    {'latitude': 40.764164, 'longitude': -73.98306}   $$  \n",
       "0    4.0   299     {'latitude': 40.71348, 'longitude': -73.96166}    $  \n",
       "1    3.0    50  {'latitude': 40.6145264, 'longitude': -74.1771...  NaN  \n",
       "2    5.0     3  {'latitude': 40.7350196838379, 'longitude': -7...  NaN  \n",
       "3    4.0   148  {'latitude': 40.7190548557359, 'longitude': -7...    $  \n",
       "4    4.0   356  {'latitude': 40.786692073145, 'longitude': -73...   $$  \n",
       "..   ...   ...                                                ...  ...  \n",
       "294  3.5   562     {'latitude': 40.73247, 'longitude': -74.00163}   $$  \n",
       "295  3.5   649  {'latitude': 40.714486, 'longitude': -74.0152768}   $$  \n",
       "296  4.0   160  {'latitude': 40.7102746, 'longitude': -74.0164...   $$  \n",
       "297  4.0   359     {'latitude': 40.73036, 'longitude': -73.99462}   $$  \n",
       "298  4.5   541  {'latitude': 40.7327766418457, 'longitude': -7...   $$  \n",
       "\n",
       "[299 rows x 8 columns]"
      ]
     },
     "execution_count": 51,
     "metadata": {},
     "output_type": "execute_result"
    }
   ],
   "source": [
    "df"
   ]
  },
  {
   "cell_type": "code",
   "execution_count": null,
   "metadata": {},
   "outputs": [],
   "source": []
  }
 ],
 "metadata": {
  "kernelspec": {
   "display_name": "Python (learn-env)",
   "language": "python",
   "name": "learn-env"
  },
  "language_info": {
   "codemirror_mode": {
    "name": "ipython",
    "version": 3
   },
   "file_extension": ".py",
   "mimetype": "text/x-python",
   "name": "python",
   "nbconvert_exporter": "python",
   "pygments_lexer": "ipython3",
   "version": "3.8.5"
  }
 },
 "nbformat": 4,
 "nbformat_minor": 4
}
