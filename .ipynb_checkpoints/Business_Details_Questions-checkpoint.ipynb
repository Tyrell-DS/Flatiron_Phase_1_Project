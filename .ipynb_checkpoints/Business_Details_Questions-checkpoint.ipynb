{
 "cells": [
  {
   "cell_type": "code",
   "execution_count": 1,
   "metadata": {},
   "outputs": [],
   "source": [
    "import requests\n",
    "import json\n",
    "import csv\n",
    "import pandas as pd"
   ]
  },
  {
   "cell_type": "code",
   "execution_count": 8,
   "metadata": {},
   "outputs": [],
   "source": [
    "df_NY_Bars = pd.read_csv('./NYC_Bars_Clean.csv', index_col = 0)\n",
    "df_Boston_Bars = pd.read_csv('./Boston_Bars_Clean.csv', index_col = 0)\n",
    "\n",
    "df_NY_Reviews = pd.read_csv('./NYC_Reviews_Clean.csv', index_col = 0)\n",
    "df_Boston_Reviews = pd.read_csv('./Boston_Reviews_Clean.csv', index_col = 0)\n"
   ]
  },
  {
   "cell_type": "code",
   "execution_count": 16,
   "metadata": {},
   "outputs": [
    {
     "data": {
      "text/html": [
       "<div>\n",
       "<style scoped>\n",
       "    .dataframe tbody tr th:only-of-type {\n",
       "        vertical-align: middle;\n",
       "    }\n",
       "\n",
       "    .dataframe tbody tr th {\n",
       "        vertical-align: top;\n",
       "    }\n",
       "\n",
       "    .dataframe thead th {\n",
       "        text-align: right;\n",
       "    }\n",
       "</style>\n",
       "<table border=\"1\" class=\"dataframe\">\n",
       "  <thead>\n",
       "    <tr style=\"text-align: right;\">\n",
       "      <th></th>\n",
       "      <th>Name</th>\n",
       "      <th>Address</th>\n",
       "      <th>Business ID</th>\n",
       "      <th>Rating</th>\n",
       "      <th>Review Count</th>\n",
       "      <th>Coordinates</th>\n",
       "      <th>Price</th>\n",
       "    </tr>\n",
       "  </thead>\n",
       "  <tbody>\n",
       "    <tr>\n",
       "      <th>159</th>\n",
       "      <td>Jacob's Pickles</td>\n",
       "      <td>['509 Amsterdam Ave', 'New York, NY 10024']</td>\n",
       "      <td>xt4sa64WOrpJvZBDPNPNYg</td>\n",
       "      <td>4.0</td>\n",
       "      <td>4397</td>\n",
       "      <td>{'latitude': 40.7866504411994, 'longitude': -7...</td>\n",
       "      <td>2</td>\n",
       "    </tr>\n",
       "    <tr>\n",
       "      <th>270</th>\n",
       "      <td>Jane</td>\n",
       "      <td>['100 W Houston St', 'New York, NY 10012']</td>\n",
       "      <td>uoT2_Wrt1noD6kZOID7tUg</td>\n",
       "      <td>4.0</td>\n",
       "      <td>3149</td>\n",
       "      <td>{'latitude': 40.7273779, 'longitude': -74.00025}</td>\n",
       "      <td>2</td>\n",
       "    </tr>\n",
       "    <tr>\n",
       "      <th>68</th>\n",
       "      <td>Dinosaur Bar-B-Que</td>\n",
       "      <td>['700 W 125th St', 'New York, NY 10027']</td>\n",
       "      <td>XzUW9MvEGOFs9_aNj11j2Q</td>\n",
       "      <td>4.0</td>\n",
       "      <td>3120</td>\n",
       "      <td>{'latitude': 40.818098338924, 'longitude': -73...</td>\n",
       "      <td>2</td>\n",
       "    </tr>\n",
       "    <tr>\n",
       "      <th>166</th>\n",
       "      <td>Gramercy Tavern</td>\n",
       "      <td>['42 E 20th St', 'New York, NY 10003']</td>\n",
       "      <td>veq1Bl1DW3UWMekZJUsG1Q</td>\n",
       "      <td>4.5</td>\n",
       "      <td>2941</td>\n",
       "      <td>{'latitude': 40.73844, 'longitude': -73.98825}</td>\n",
       "      <td>4</td>\n",
       "    </tr>\n",
       "    <tr>\n",
       "      <th>170</th>\n",
       "      <td>Juliana's</td>\n",
       "      <td>['19 Old Fulton St', 'Brooklyn, NY 11201']</td>\n",
       "      <td>ysqgdbSrezXgVwER2kQWKA</td>\n",
       "      <td>4.5</td>\n",
       "      <td>2295</td>\n",
       "      <td>{'latitude': 40.70274718768062, 'longitude': -...</td>\n",
       "      <td>2</td>\n",
       "    </tr>\n",
       "  </tbody>\n",
       "</table>\n",
       "</div>"
      ],
      "text/plain": [
       "                   Name                                      Address  \\\n",
       "159     Jacob's Pickles  ['509 Amsterdam Ave', 'New York, NY 10024']   \n",
       "270                Jane   ['100 W Houston St', 'New York, NY 10012']   \n",
       "68   Dinosaur Bar-B-Que     ['700 W 125th St', 'New York, NY 10027']   \n",
       "166     Gramercy Tavern       ['42 E 20th St', 'New York, NY 10003']   \n",
       "170           Juliana's   ['19 Old Fulton St', 'Brooklyn, NY 11201']   \n",
       "\n",
       "                Business ID  Rating  Review Count  \\\n",
       "159  xt4sa64WOrpJvZBDPNPNYg     4.0          4397   \n",
       "270  uoT2_Wrt1noD6kZOID7tUg     4.0          3149   \n",
       "68   XzUW9MvEGOFs9_aNj11j2Q     4.0          3120   \n",
       "166  veq1Bl1DW3UWMekZJUsG1Q     4.5          2941   \n",
       "170  ysqgdbSrezXgVwER2kQWKA     4.5          2295   \n",
       "\n",
       "                                           Coordinates  Price  \n",
       "159  {'latitude': 40.7866504411994, 'longitude': -7...      2  \n",
       "270   {'latitude': 40.7273779, 'longitude': -74.00025}      2  \n",
       "68   {'latitude': 40.818098338924, 'longitude': -73...      2  \n",
       "166     {'latitude': 40.73844, 'longitude': -73.98825}      4  \n",
       "170  {'latitude': 40.70274718768062, 'longitude': -...      2  "
      ]
     },
     "execution_count": 16,
     "metadata": {},
     "output_type": "execute_result"
    }
   ],
   "source": [
    "df_NY_Bars.nlargest(5,['Review Count'])"
   ]
  },
  {
   "cell_type": "code",
   "execution_count": 17,
   "metadata": {},
   "outputs": [
    {
     "data": {
      "text/html": [
       "<div>\n",
       "<style scoped>\n",
       "    .dataframe tbody tr th:only-of-type {\n",
       "        vertical-align: middle;\n",
       "    }\n",
       "\n",
       "    .dataframe tbody tr th {\n",
       "        vertical-align: top;\n",
       "    }\n",
       "\n",
       "    .dataframe thead th {\n",
       "        text-align: right;\n",
       "    }\n",
       "</style>\n",
       "<table border=\"1\" class=\"dataframe\">\n",
       "  <thead>\n",
       "    <tr style=\"text-align: right;\">\n",
       "      <th></th>\n",
       "      <th>Name</th>\n",
       "      <th>Address</th>\n",
       "      <th>Business ID</th>\n",
       "      <th>Rating</th>\n",
       "      <th>Review Count</th>\n",
       "      <th>Coordinates</th>\n",
       "      <th>Price</th>\n",
       "    </tr>\n",
       "  </thead>\n",
       "  <tbody>\n",
       "    <tr>\n",
       "      <th>13</th>\n",
       "      <td>Neptune Oyster</td>\n",
       "      <td>['63 Salem St', 'Boston, MA 02113']</td>\n",
       "      <td>y2w6rFaO0XEiG5mFfOsiFA</td>\n",
       "      <td>4.5</td>\n",
       "      <td>5165</td>\n",
       "      <td>{'latitude': 42.36321, 'longitude': -71.05594}</td>\n",
       "      <td>3</td>\n",
       "    </tr>\n",
       "    <tr>\n",
       "      <th>144</th>\n",
       "      <td>Union Oyster House</td>\n",
       "      <td>['41 Union St', 'Boston, MA 02108']</td>\n",
       "      <td>Ruq91rmQNweZ78TzKylQMg</td>\n",
       "      <td>3.5</td>\n",
       "      <td>2855</td>\n",
       "      <td>{'latitude': 42.36126, 'longitude': -71.05688}</td>\n",
       "      <td>2</td>\n",
       "    </tr>\n",
       "    <tr>\n",
       "      <th>197</th>\n",
       "      <td>Atlantic Fish Co</td>\n",
       "      <td>['761 Boylston St', 'Boston, MA 02116']</td>\n",
       "      <td>AGR_kBvN__I7aTl0rBywAg</td>\n",
       "      <td>4.0</td>\n",
       "      <td>2604</td>\n",
       "      <td>{'latitude': 42.3492217873536, 'longitude': -7...</td>\n",
       "      <td>3</td>\n",
       "    </tr>\n",
       "    <tr>\n",
       "      <th>43</th>\n",
       "      <td>The Beehive</td>\n",
       "      <td>['541 Tremont St', 'Boston, MA 02116']</td>\n",
       "      <td>367aDatN4B0UNT4hNPMqPQ</td>\n",
       "      <td>3.5</td>\n",
       "      <td>2195</td>\n",
       "      <td>{'latitude': 42.344493, 'longitude': -71.071497}</td>\n",
       "      <td>2</td>\n",
       "    </tr>\n",
       "    <tr>\n",
       "      <th>19</th>\n",
       "      <td>Lolita Cocina &amp; Tequila Bar Back Bay</td>\n",
       "      <td>['271 Dartmouth St', 'Boston, MA 02116']</td>\n",
       "      <td>u51e3gychuqBYNqe2xG6_w</td>\n",
       "      <td>4.0</td>\n",
       "      <td>2176</td>\n",
       "      <td>{'latitude': 42.3505860446405, 'longitude': -7...</td>\n",
       "      <td>2</td>\n",
       "    </tr>\n",
       "  </tbody>\n",
       "</table>\n",
       "</div>"
      ],
      "text/plain": [
       "                                     Name  \\\n",
       "13                         Neptune Oyster   \n",
       "144                    Union Oyster House   \n",
       "197                      Atlantic Fish Co   \n",
       "43                            The Beehive   \n",
       "19   Lolita Cocina & Tequila Bar Back Bay   \n",
       "\n",
       "                                      Address             Business ID  Rating  \\\n",
       "13        ['63 Salem St', 'Boston, MA 02113']  y2w6rFaO0XEiG5mFfOsiFA     4.5   \n",
       "144       ['41 Union St', 'Boston, MA 02108']  Ruq91rmQNweZ78TzKylQMg     3.5   \n",
       "197   ['761 Boylston St', 'Boston, MA 02116']  AGR_kBvN__I7aTl0rBywAg     4.0   \n",
       "43     ['541 Tremont St', 'Boston, MA 02116']  367aDatN4B0UNT4hNPMqPQ     3.5   \n",
       "19   ['271 Dartmouth St', 'Boston, MA 02116']  u51e3gychuqBYNqe2xG6_w     4.0   \n",
       "\n",
       "     Review Count                                        Coordinates  Price  \n",
       "13           5165     {'latitude': 42.36321, 'longitude': -71.05594}      3  \n",
       "144          2855     {'latitude': 42.36126, 'longitude': -71.05688}      2  \n",
       "197          2604  {'latitude': 42.3492217873536, 'longitude': -7...      3  \n",
       "43           2195   {'latitude': 42.344493, 'longitude': -71.071497}      2  \n",
       "19           2176  {'latitude': 42.3505860446405, 'longitude': -7...      2  "
      ]
     },
     "execution_count": 17,
     "metadata": {},
     "output_type": "execute_result"
    }
   ],
   "source": [
    "df_Boston_Bars.nlargest(5,['Review Count'])"
   ]
  },
  {
   "cell_type": "code",
   "execution_count": 18,
   "metadata": {},
   "outputs": [
    {
     "data": {
      "text/html": [
       "<div>\n",
       "<style scoped>\n",
       "    .dataframe tbody tr th:only-of-type {\n",
       "        vertical-align: middle;\n",
       "    }\n",
       "\n",
       "    .dataframe tbody tr th {\n",
       "        vertical-align: top;\n",
       "    }\n",
       "\n",
       "    .dataframe thead th {\n",
       "        text-align: right;\n",
       "    }\n",
       "</style>\n",
       "<table border=\"1\" class=\"dataframe\">\n",
       "  <thead>\n",
       "    <tr style=\"text-align: right;\">\n",
       "      <th></th>\n",
       "      <th>Name</th>\n",
       "      <th>Address</th>\n",
       "      <th>Business ID</th>\n",
       "      <th>Rating</th>\n",
       "      <th>Review Count</th>\n",
       "      <th>Coordinates</th>\n",
       "      <th>Price</th>\n",
       "    </tr>\n",
       "  </thead>\n",
       "  <tbody>\n",
       "    <tr>\n",
       "      <th>15</th>\n",
       "      <td>The Commissioner</td>\n",
       "      <td>['247 5th Ave', 'Brooklyn, NY 11215']</td>\n",
       "      <td>xHgMfdyLA5SPQz4c3ItTgg</td>\n",
       "      <td>5.0</td>\n",
       "      <td>141</td>\n",
       "      <td>{'latitude': 40.67487, 'longitude': -73.98137}</td>\n",
       "      <td>1</td>\n",
       "    </tr>\n",
       "  </tbody>\n",
       "</table>\n",
       "</div>"
      ],
      "text/plain": [
       "                Name                                Address  \\\n",
       "15  The Commissioner  ['247 5th Ave', 'Brooklyn, NY 11215']   \n",
       "\n",
       "               Business ID  Rating  Review Count  \\\n",
       "15  xHgMfdyLA5SPQz4c3ItTgg     5.0           141   \n",
       "\n",
       "                                       Coordinates  Price  \n",
       "15  {'latitude': 40.67487, 'longitude': -73.98137}      1  "
      ]
     },
     "execution_count": 18,
     "metadata": {},
     "output_type": "execute_result"
    }
   ],
   "source": [
    "df_NY_Bars.nlargest(1,['Rating'])"
   ]
  },
  {
   "cell_type": "code",
   "execution_count": 19,
   "metadata": {},
   "outputs": [
    {
     "data": {
      "text/html": [
       "<div>\n",
       "<style scoped>\n",
       "    .dataframe tbody tr th:only-of-type {\n",
       "        vertical-align: middle;\n",
       "    }\n",
       "\n",
       "    .dataframe tbody tr th {\n",
       "        vertical-align: top;\n",
       "    }\n",
       "\n",
       "    .dataframe thead th {\n",
       "        text-align: right;\n",
       "    }\n",
       "</style>\n",
       "<table border=\"1\" class=\"dataframe\">\n",
       "  <thead>\n",
       "    <tr style=\"text-align: right;\">\n",
       "      <th></th>\n",
       "      <th>Name</th>\n",
       "      <th>Address</th>\n",
       "      <th>Business ID</th>\n",
       "      <th>Rating</th>\n",
       "      <th>Review Count</th>\n",
       "      <th>Coordinates</th>\n",
       "      <th>Price</th>\n",
       "    </tr>\n",
       "  </thead>\n",
       "  <tbody>\n",
       "    <tr>\n",
       "      <th>62</th>\n",
       "      <td>Allston Billiards</td>\n",
       "      <td>['445 Cambridge St', 'Fl 2', 'Boston, MA 02134']</td>\n",
       "      <td>WhOZfqo49chqzdt15iluQA</td>\n",
       "      <td>5.0</td>\n",
       "      <td>6</td>\n",
       "      <td>{'latitude': 42.35467, 'longitude': -71.13542}</td>\n",
       "      <td>1</td>\n",
       "    </tr>\n",
       "  </tbody>\n",
       "</table>\n",
       "</div>"
      ],
      "text/plain": [
       "                 Name                                           Address  \\\n",
       "62  Allston Billiards  ['445 Cambridge St', 'Fl 2', 'Boston, MA 02134']   \n",
       "\n",
       "               Business ID  Rating  Review Count  \\\n",
       "62  WhOZfqo49chqzdt15iluQA     5.0             6   \n",
       "\n",
       "                                       Coordinates  Price  \n",
       "62  {'latitude': 42.35467, 'longitude': -71.13542}      1  "
      ]
     },
     "execution_count": 19,
     "metadata": {},
     "output_type": "execute_result"
    }
   ],
   "source": [
    "df_Boston_Bars.nlargest(1,['Rating'])"
   ]
  },
  {
   "cell_type": "code",
   "execution_count": 60,
   "metadata": {},
   "outputs": [],
   "source": [
    "NY_FourHalfStars = (df_NY_Bars['Rating'].values ==4.5).sum()\n",
    "NY_FiveStars = (df_NY_Bars['Rating'].values ==5).sum()\n",
    "Boston_FourHalfStars = (df_Boston_Bars['Rating'].values ==4.5).sum()\n",
    "Boston_FiveStars = (df_Boston_Bars['Rating'].values == 5).sum()"
   ]
  },
  {
   "cell_type": "code",
   "execution_count": 61,
   "metadata": {},
   "outputs": [],
   "source": [
    "y = (Boston_FiveStars+Boston_FourHalfStars+NY_FiveStars+NY_FourHalfStars)\n",
    "\n",
    "#14 total were dropped\n",
    "y_percent = ((y/586) * 100).round(2)"
   ]
  },
  {
   "cell_type": "code",
   "execution_count": 62,
   "metadata": {},
   "outputs": [],
   "source": [
    "NY_FourStars = (df_NY_Bars['Rating'].values ==4).sum()\n",
    "Boston_FourStars = (df_Boston_Bars['Rating'].values ==4).sum()\n",
    "x = (NY_FourStars + Boston_FourStars)\n",
    "x_percent = ((x/586) * 100).round(2)\n",
    "Z_percent = 100 - (y_percent+x_percent)"
   ]
  },
  {
   "cell_type": "code",
   "execution_count": 63,
   "metadata": {},
   "outputs": [
    {
     "data": {
      "text/plain": [
       "37.2"
      ]
     },
     "execution_count": 63,
     "metadata": {},
     "output_type": "execute_result"
    }
   ],
   "source": [
    "Z_percent"
   ]
  },
  {
   "cell_type": "code",
   "execution_count": 68,
   "metadata": {},
   "outputs": [
    {
     "data": {
      "text/plain": [
       "9.0"
      ]
     },
     "execution_count": 68,
     "metadata": {},
     "output_type": "execute_result"
    }
   ],
   "source": [
    "NY_Less = (df_NY_Bars['Rating'].values <= 3).sum()\n",
    "Boston_Less = (df_Boston_Bars['Rating'].values <= 3).sum()\n",
    "LessThan3 = (((NY_Less+Boston_Less)/586) *100).round()\n",
    "LessThan3"
   ]
  },
  {
   "cell_type": "code",
   "execution_count": 77,
   "metadata": {},
   "outputs": [
    {
     "data": {
      "text/plain": [
       "1.0"
      ]
     },
     "execution_count": 77,
     "metadata": {},
     "output_type": "execute_result"
    }
   ],
   "source": [
    "NY_Price4 = (df_NY_Bars['Price'].values == 4).sum()\n",
    "Boston_Price4 = (df_Boston_Bars['Price'].values == 4).sum()\n",
    "dataPrice4 = (((NY_Price4+Boston_Price4)/586)*100).round()\n",
    "dataPrice4"
   ]
  },
  {
   "cell_type": "code",
   "execution_count": null,
   "metadata": {},
   "outputs": [],
   "source": []
  }
 ],
 "metadata": {
  "kernelspec": {
   "display_name": "Python (learn-env)",
   "language": "python",
   "name": "learn-env"
  },
  "language_info": {
   "codemirror_mode": {
    "name": "ipython",
    "version": 3
   },
   "file_extension": ".py",
   "mimetype": "text/x-python",
   "name": "python",
   "nbconvert_exporter": "python",
   "pygments_lexer": "ipython3",
   "version": "3.8.5"
  }
 },
 "nbformat": 4,
 "nbformat_minor": 4
}
